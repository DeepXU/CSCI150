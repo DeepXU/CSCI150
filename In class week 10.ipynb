{
 "cells": [
  {
   "cell_type": "code",
   "execution_count": null,
   "id": "616fab35-d5a9-4330-9bb7-3efe314b6086",
   "metadata": {
    "tags": []
   },
   "outputs": [],
   "source": [
    "#Creating variables\n",
    "\n",
    "var = 1\n",
    "print(var)\n"
   ]
  },
  {
   "cell_type": "code",
   "execution_count": null,
   "id": "3882fe4d-2f05-4da9-bc19-cf2bf8f7e5df",
   "metadata": {
    "jupyter": {
     "source_hidden": true
    },
    "tags": []
   },
   "outputs": [],
   "source": []
  },
  {
   "cell_type": "code",
   "execution_count": null,
   "id": "ed97addd-e863-4908-a734-ae955e487013",
   "metadata": {},
   "outputs": [],
   "source": [
    "#Using variables\n",
    "#You're allowed to use as many variable declarations as you need to achieve your goal, like this:\n",
    "\n",
    "var = 1\n",
    "account_balance = 1000.0\n",
    "client_name = 'John Doe'\n",
    "print(var, account_balance, client_name)\n",
    "print(var)\n"
   ]
  },
  {
   "cell_type": "code",
   "execution_count": null,
   "id": "8027e294-2d06-4ce1-8fef-245596a97a65",
   "metadata": {},
   "outputs": [],
   "source": [
    "#You're not allowed to use a variable which doesn't exist\n",
    "\n",
    "var = 1\n",
    "print(Var)"
   ]
  },
  {
   "cell_type": "code",
   "execution_count": null,
   "id": "e818e7b7-628d-4f65-87e6-678a779f2e75",
   "metadata": {},
   "outputs": [],
   "source": [
    "#You can use the print() function and combine text and variables using the + operator to output strings and variable\n",
    "\n",
    "var = \"3.8.5\"\n",
    "print(\"Python version: \" + var)"
   ]
  },
  {
   "cell_type": "code",
   "execution_count": null,
   "id": "8ee0273b-d77a-4707-b8de-5729eb5b2bcf",
   "metadata": {
    "jupyter": {
     "source_hidden": true
    },
    "tags": []
   },
   "outputs": [],
   "source": []
  },
  {
   "cell_type": "code",
   "execution_count": null,
   "id": "09ffb188-e11a-4c8c-8573-46882f32655c",
   "metadata": {},
   "outputs": [],
   "source": [
    "#Assigning a new value to an already existing variable\n",
    "#The equal sign is in fact an assignment operator\n",
    "\n",
    "var = 1\n",
    "print(var)\n",
    "var = var + 1\n",
    "print(var)\n",
    "\n"
   ]
  },
  {
   "cell_type": "code",
   "execution_count": null,
   "id": "56aa636a-4622-4053-8fd0-907e4b24d1af",
   "metadata": {
    "jupyter": {
     "source_hidden": true
    },
    "tags": []
   },
   "outputs": [],
   "source": []
  },
  {
   "cell_type": "code",
   "execution_count": null,
   "id": "ad2e64d4-cfdc-4fb9-909b-94086fc0ab98",
   "metadata": {},
   "outputs": [],
   "source": [
    "#Solving simple mathematical problems\n",
    "#The square of the hypotenuse is equal to the sum of the squares of the other two sides.\n",
    "\n",
    "a = 3.0\n",
    "b = 4.0\n",
    "c = (a ** 2 + b ** 2) ** 0.5\n",
    "print(\"c =\", c)\n",
    "\n",
    "#Note: we need to make use of the ** operator to evaluate the square root as:\n"
   ]
  },
  {
   "cell_type": "code",
   "execution_count": null,
   "id": "52056e18-8621-445f-a8e4-8cd746bf54a7",
   "metadata": {
    "jupyter": {
     "source_hidden": true
    },
    "tags": []
   },
   "outputs": [],
   "source": []
  },
  {
   "cell_type": "code",
   "execution_count": null,
   "id": "19281333-e49a-4fea-a525-9749d4afcd15",
   "metadata": {},
   "outputs": [],
   "source": [
    "#Leaving comments in code: why, how, and when\n",
    "# This program evaluates the hypotenuse c.\n",
    "# a and b are the lengths of the legs.\n",
    "a = 3.0\n",
    "b = 4.0\n",
    "c = (a ** 2 + b ** 2) ** 0.5  # We use ** instead of square root.\n",
    "print(\"c =\", c)\n",
    "\n"
   ]
  },
  {
   "cell_type": "code",
   "execution_count": null,
   "id": "5254d2f6-5b57-4971-94b2-dd7da1adc429",
   "metadata": {},
   "outputs": [],
   "source": [
    "# mark a piece of code that currently isn't needed .\n",
    "# This is a test program.\n",
    "x = 1\n",
    "y = 2\n",
    "# y = y + x\n",
    "print(x + y)\n"
   ]
  },
  {
   "cell_type": "code",
   "execution_count": null,
   "id": "7c87e40a-a630-44a0-b12c-7cef27993ae1",
   "metadata": {
    "jupyter": {
     "source_hidden": true
    },
    "tags": []
   },
   "outputs": [],
   "source": []
  },
  {
   "cell_type": "code",
   "execution_count": null,
   "id": "f7e2d169-a5aa-4e0c-b250-3d497680882b",
   "metadata": {},
   "outputs": [],
   "source": []
  },
  {
   "cell_type": "code",
   "execution_count": null,
   "id": "7444bad7-5b54-4218-9e6b-dc2b1eff13e7",
   "metadata": {},
   "outputs": [],
   "source": [
    "#The input() function\n",
    "\n",
    "print(\"Tell me anything...\")\n",
    "anything = input()\n",
    "print(\"Hmm...\", anything, \"... Really?\")\n",
    "\n",
    "\n"
   ]
  },
  {
   "cell_type": "code",
   "execution_count": null,
   "id": "27522155-5918-4fb9-8099-2f28082f2c4a",
   "metadata": {},
   "outputs": [],
   "source": [
    "#The input() function with an argument; The input() function - prohibited operations\n",
    "#A string containing all the characters the user enters from the keyboard. It is not an integer or a float.\n",
    "\n",
    "anything = input(\"Enter a number: \")\n",
    "something = anything ** 2.0\n",
    "print(anything, \"to the power of 2 is\", something)"
   ]
  },
  {
   "cell_type": "code",
   "execution_count": null,
   "id": "bb27a208-4673-4263-95d8-316ea04fb8ae",
   "metadata": {
    "jupyter": {
     "source_hidden": true
    },
    "tags": []
   },
   "outputs": [],
   "source": []
  },
  {
   "cell_type": "code",
   "execution_count": null,
   "id": "0f92dd37-bef5-4c3f-879d-3407544be281",
   "metadata": {
    "tags": []
   },
   "outputs": [],
   "source": [
    "#Type casting\n",
    "#Python offers two simple functions to specify a type of data and solve this problem - here they are: int() and float().\n",
    "\n",
    "anything = float(input(\"Enter a number: \"))\n",
    "something = anything ** 2.0\n",
    "print(anything, \"to the power of 2 is\", something)\n"
   ]
  },
  {
   "cell_type": "code",
   "execution_count": null,
   "id": "523f5a5d-5c11-4928-a3c9-4944d0b85442",
   "metadata": {
    "jupyter": {
     "source_hidden": true
    },
    "tags": []
   },
   "outputs": [],
   "source": []
  },
  {
   "cell_type": "code",
   "execution_count": null,
   "id": "b94ff19e-edb8-4578-b286-e2fe3bd729ff",
   "metadata": {},
   "outputs": [],
   "source": [
    "#More about input() and type casting\n",
    "#The program asks the user twice for both legs' lengths, evaluates the hypotenuse and prints the result.\n",
    "#Run it and try to input some negative values.\n",
    "\n",
    "leg_a = float(input(\"Input first leg length: \"))\n",
    "leg_b = float(input(\"Input second leg length: \"))\n",
    "hypo = (leg_a**2 + leg_b**2) ** .5\n",
    "print(\"Hypotenuse length is\", hypo)"
   ]
  },
  {
   "cell_type": "code",
   "execution_count": null,
   "id": "9cbcc6fe-23e2-43e0-8d41-07413ba19a3c",
   "metadata": {
    "tags": []
   },
   "outputs": [],
   "source": [
    "#print() function accepts an expression as its argument, you can remove the variable from the code.\n",
    "\n",
    "leg_a = float(input(\"Input first leg length: \"))\n",
    "leg_b = float(input(\"Input second leg length: \"))\n",
    "print(\"Hypotenuse length is\", (leg_a**2 + leg_b**2) ** .5)\n"
   ]
  },
  {
   "cell_type": "code",
   "execution_count": null,
   "id": "5a762928-416e-4dcc-bab4-5d60e5888401",
   "metadata": {
    "jupyter": {
     "source_hidden": true
    },
    "tags": []
   },
   "outputs": [],
   "source": [
    "\n"
   ]
  },
  {
   "cell_type": "code",
   "execution_count": null,
   "id": "bd5e0d5c-8822-46b6-ad5d-9c26ba6075a1",
   "metadata": {},
   "outputs": [],
   "source": []
  },
  {
   "cell_type": "code",
   "execution_count": null,
   "id": "596dd866-5e69-4948-bce7-6ef800391a70",
   "metadata": {
    "tags": []
   },
   "outputs": [],
   "source": []
  },
  {
   "cell_type": "code",
   "execution_count": null,
   "id": "61a42da6-1638-4ba7-8ae3-569f95f11845",
   "metadata": {
    "tags": []
   },
   "outputs": [],
   "source": [
    "#Concatenation (concatenates (glues) two strings into one)\n",
    "\n",
    "\n",
    "fnam = input(\"May I have your first name, please? \")\n",
    "lnam = input(\"May I have your last name, please? \")\n",
    "print(\"Thank you.\")\n",
    "print(\"\\nYour name is \" + fnam + \" \" + lnam + \".\")"
   ]
  },
  {
   "cell_type": "code",
   "execution_count": null,
   "id": "17fba7d2-def1-4aea-a4d7-1c8333b309a9",
   "metadata": {
    "tags": []
   },
   "outputs": [],
   "source": []
  },
  {
   "cell_type": "code",
   "execution_count": null,
   "id": "0de2ad85-c1b4-49df-9d9f-c59888e8c580",
   "metadata": {},
   "outputs": [],
   "source": []
  },
  {
   "cell_type": "code",
   "execution_count": null,
   "id": "8abe3040-57fa-4558-a1b1-b23af1948318",
   "metadata": {},
   "outputs": [],
   "source": [
    "#Replication\n",
    "# * replicates the string the same number of times specified by the number.\n",
    "\n",
    "print(\"+\" + 10 * \"-\" + \"+\")\n",
    "print((\"|\" + \" \" * 10 + \"|\\n\") * 5, end=\"\")\n",
    "print(\"+\" + 10 * \"-\" + \"+\")\n"
   ]
  },
  {
   "cell_type": "code",
   "execution_count": null,
   "id": "3d1d7a44-2ac8-48b9-9658-3c81b93decef",
   "metadata": {
    "jupyter": {
     "source_hidden": true
    },
    "tags": []
   },
   "outputs": [],
   "source": []
  },
  {
   "cell_type": "code",
   "execution_count": null,
   "id": "705afdb8-5d6e-417a-b7ee-be822101399a",
   "metadata": {},
   "outputs": [],
   "source": []
  },
  {
   "cell_type": "code",
   "execution_count": null,
   "id": "bc581961-fbea-4a41-ac08-c77ecbe91631",
   "metadata": {},
   "outputs": [],
   "source": [
    "#Type conversion: str()\n",
    "#The \"right-angle triangle\" again\n",
    "leg_a = float(input(\"Input first leg length: \"))\n",
    "leg_b = float(input(\"Input second leg length: \"))\n",
    "print(\"Hypotenuse length is \" + str((leg_a**2 + leg_b**2) ** .5))\n",
    "\n",
    "#We've modified it a bit to show you how the str() function works. Thanks to this, \n",
    "#we can pass the whole result to the print() function as one string, forgetting about the commas.\n"
   ]
  },
  {
   "cell_type": "code",
   "execution_count": null,
   "id": "ccb406e0-4397-4225-a0ac-60483c5473ad",
   "metadata": {
    "tags": []
   },
   "outputs": [],
   "source": []
  },
  {
   "cell_type": "code",
   "execution_count": null,
   "id": "435a1722-4449-41c5-9feb-f21c6dccb98b",
   "metadata": {},
   "outputs": [],
   "source": []
  },
  {
   "cell_type": "code",
   "execution_count": null,
   "id": "c501404d-7c11-4faf-a9df-cbad271be357",
   "metadata": {},
   "outputs": [],
   "source": []
  },
  {
   "cell_type": "raw",
   "id": "7bc20b3b-53f1-41ac-81bf-d41bff699fba",
   "metadata": {},
   "source": [
    "**************************************in class Labs********************************************"
   ]
  },
  {
   "cell_type": "code",
   "execution_count": null,
   "id": "49dedda8-85bb-4792-ab20-989277ecbaa2",
   "metadata": {},
   "outputs": [],
   "source": []
  },
  {
   "cell_type": "raw",
   "id": "a8b302a5-d183-4e7a-be57-8afdd4d85ad2",
   "metadata": {},
   "source": [
    "#in class Lab 01.\n",
    "\n",
    "#Once upon a time in Appleland, John had three apples, Mary had five apples, and Adam had six apples. \n",
    "#They were all very happy and lived for a long time. End of story.\n",
    "\n",
    "#Your task is to:\n",
    "\n",
    "    #create the variables: john, mary, and adam;\n",
    "    #assign values to the variables. The values must be equal to the numbers of fruit possessed by John, Mary, and Adam respectively;\n",
    "    #having stored the numbers in the variables, print the variables on one line, and separate each of them with a comma;\n",
    "    #now create a new variable named total_apples equal to addition of the three former variables.\n",
    "    #print the value stored in total_apples to the console;\n",
    "    #experiment with your code: create new variables, assign different values to them, and perform various arithmetic \n",
    "    #operations on them (e.g., +, -, *, /, //, etc.). Try to print a string and an integer together on one line, e.g., \n",
    "    #\"Total number of apples:\" and total_apples.\n",
    "\n"
   ]
  },
  {
   "cell_type": "code",
   "execution_count": null,
   "id": "cd7f8d7e-2715-42f8-a88c-666d74af1c40",
   "metadata": {},
   "outputs": [],
   "source": []
  },
  {
   "cell_type": "raw",
   "id": "a691f69b-fab4-46f3-806e-0eeba87bc4ad",
   "metadata": {},
   "source": [
    "#in class Lab 02. Miles and kilometers are units of length or distance\n",
    "#Bearing in mind that 1 mile is equal to approximately 1.61 kilometers, complete the program in the editor so that it converts:\n",
    "#    miles to kilometers;\n",
    "#    kilometers to miles.\n",
    "#    Do not change anything in the existing code.\n",
    "#    Write your code in the places indicated by \n",
    "###. Test your program with the data we've provided in the source code.\n",
    "\n",
    "###. 7.38 miles is 11.88 kilometers ###. \n",
    "###. 12.25 kilometers is 7.61 miles ###. \n",
    "\n"
   ]
  },
  {
   "cell_type": "code",
   "execution_count": null,
   "id": "ed02a2cc-43a6-4708-8b4e-77a1144cfd22",
   "metadata": {},
   "outputs": [],
   "source": [
    "kilometers = 12.25\n",
    "miles = 7.38\n",
    "\n",
    "miles_to_kilometers = ###\n",
    "kilometers_to_miles = ###\n",
    "\n",
    "print(miles, \"miles is\", round(miles_to_kilometers, 2), \"kilometers\")\n",
    "print(kilometers, \"kilometers is\", round(kilometers_to_miles, 2), \"miles\")"
   ]
  },
  {
   "cell_type": "code",
   "execution_count": null,
   "id": "8fbade8d-a08c-4adb-badf-e5bf781e4be3",
   "metadata": {
    "tags": []
   },
   "outputs": [],
   "source": []
  },
  {
   "cell_type": "raw",
   "id": "8b03f6cc-5b37-4bc0-99e9-5463a1844b27",
   "metadata": {},
   "source": [
    "#in class Lab 03 \n",
    "#Take a look at the code in the editor: it reads a float value, \n",
    "#puts it into a variable named x, and prints the value of a variable named y. \n",
    "#Your task is to complete the code below in order to evaluate the following expression:\n",
    "#3x3 - 2x2 + 3x - 1  (3x power 3 - 2x power 2 + 3x - 1  \n",
    "\n",
    "x =  # hardcode your test data here\n",
    "x = float(x)\n",
    "# write your code here\n",
    "print(\"y =\", y)\n",
    "\n",
    "Test Data\n",
    "\n",
    "Sample input\n",
    "x = 0\n",
    "x = 1\n",
    "x = -1\n",
    "\n",
    "Expected Output\n",
    "y = -1.0\n",
    "y = 3.0\n",
    "y = -9.0\n",
    "\n"
   ]
  },
  {
   "cell_type": "code",
   "execution_count": null,
   "id": "99effd11-a6cf-40d9-b16a-cdafe4606004",
   "metadata": {},
   "outputs": [],
   "source": [
    "x =  # hardcode your test data here\n",
    "x = float(x)\n",
    "# write your code here\n",
    "print(\"y =\", y)"
   ]
  },
  {
   "cell_type": "code",
   "execution_count": null,
   "id": "a32dbbe2-ab1e-4e9d-8471-38e7dfee286d",
   "metadata": {
    "jupyter": {
     "source_hidden": true
    },
    "tags": []
   },
   "outputs": [],
   "source": []
  },
  {
   "cell_type": "raw",
   "id": "eb6da90e-f128-481c-b6cd-3526082894d9",
   "metadata": {},
   "source": [
    "#in class Lab 04\n",
    "The code in the editor contains comments. Try to improve it: \n",
    "    add or remove comments where you find it appropriate (yes, sometimes removing a comment can make the code more readable), a\n",
    "    nd change variable names where you think this will improve code comprehension."
   ]
  },
  {
   "cell_type": "code",
   "execution_count": null,
   "id": "58fe1b0f-1b45-41b5-a75a-1dd44a9cb636",
   "metadata": {},
   "outputs": [],
   "source": [
    "#this program computes the number of seconds in a given number of hours\n",
    "# this program has been written two days ago\n",
    "\n",
    "a = 2 # number of hours\n",
    "seconds = 3600 # number of seconds in 1 hour\n",
    "\n",
    "print(\"Hours: \", a) #printing the number of hours\n",
    "# print(\"Seconds in Hours: \", a * seconds) # printing the number of seconds in a given number of hours\n",
    "\n",
    "#here we should also print \"Goodbye\", but a programmer didn't have time to write any code\n",
    "#this is the end of the program that computes the number of seconds in 3 hour\n"
   ]
  },
  {
   "cell_type": "code",
   "execution_count": null,
   "id": "76ff0157-0b1a-4bfe-a732-20e5b2fe7ada",
   "metadata": {
    "jupyter": {
     "source_hidden": true
    },
    "tags": []
   },
   "outputs": [],
   "source": []
  },
  {
   "cell_type": "code",
   "execution_count": null,
   "id": "19d1b2df-3f83-4a6b-8a03-675bb783fa0b",
   "metadata": {},
   "outputs": [],
   "source": []
  },
  {
   "cell_type": "code",
   "execution_count": null,
   "id": "18efb823-e50b-4f32-92f9-9988ed8e17b0",
   "metadata": {
    "tags": []
   },
   "outputs": [],
   "source": [
    "#in class Lab 05. \n",
    "#Your task is to complete the code in order to evaluate the results of four basic arithmetic operations.\n",
    "#The results have to be printed to the console.\n",
    "#You may not be able to protect the code from a user who wants to divide by zero. That's okay, don't worry about it for now.\n",
    "#Test your code - does it produce the results you expect?\n",
    "\n",
    "#-------------------------------------------------------------------------------------------------------------------------------#\n",
    "\n",
    "\n",
    "# input a float value for variable a here\n",
    "# input a float value for variable b here\n",
    "\n",
    "# output the result of addition here\n",
    "# output the result of subtraction here\n",
    "# output the result of multiplication here\n",
    "# output the result of division here\n",
    "\n",
    "print(\"\\nThat's all, folks!\")\n"
   ]
  },
  {
   "cell_type": "code",
   "execution_count": null,
   "id": "fabecf1d-70ff-4f74-a826-7a4348ca8e83",
   "metadata": {},
   "outputs": [],
   "source": []
  },
  {
   "cell_type": "code",
   "execution_count": null,
   "id": "717bd2c0-e141-4928-83dd-14a664250779",
   "metadata": {},
   "outputs": [],
   "source": [
    "#in class Lab 06.\n",
    "\n",
    "x =  # hardcode your test data here\n",
    "x = float(x)\n",
    "# write your code here\n",
    "print(\"y =\", y)\n"
   ]
  },
  {
   "cell_type": "code",
   "execution_count": null,
   "id": "45d57607-2a8a-4e0d-b5f4-7dccdd8800d9",
   "metadata": {
    "jupyter": {
     "source_hidden": true
    },
    "tags": []
   },
   "outputs": [],
   "source": []
  },
  {
   "cell_type": "code",
   "execution_count": null,
   "id": "da308ae2-3c36-49a9-a5a1-fac9d49a59dd",
   "metadata": {},
   "outputs": [],
   "source": []
  },
  {
   "cell_type": "raw",
   "id": "208dc73f-252f-4f0d-8ffb-b24c43668c72",
   "metadata": {},
   "source": [
    "#in class Lab 07.\n",
    "The code in the editor contains comments. Try to improve it: add or remove comments where you find it appropriate (yes, sometimes removing a comment can make the code more readable), and change variable names where you think this will improve code comprehension.\n",
    "\n",
    "\n",
    "#this program computes the number of seconds in a given number of hours\n",
    "# this program has been written two days ago\n",
    "a = 2 # number of hours\n",
    "seconds = 3600 # number of seconds in 1 hour\n",
    "print(\"Hours: \", a) #printing the number of hours\n",
    "# print(\"Seconds in Hours: \", a * seconds) # printing the number of seconds in a given number of hours\n",
    "#here we should also print \"Goodbye\", but a programmer didn't have time to write any code\n",
    "#this is the end of the program that computes the number of seconds in 3 hour\n",
    "\n"
   ]
  },
  {
   "cell_type": "code",
   "execution_count": null,
   "id": "018aa00a-cc65-4780-90b7-b622b99efcb3",
   "metadata": {},
   "outputs": [],
   "source": [
    "#this program computes the number of seconds in a given number of hours\n",
    "# this program has been written two days ago\n",
    "\n",
    "a = 2 # number of hours\n",
    "seconds = 3600 # number of seconds in 1 hour\n",
    "\n",
    "print(\"Hours: \", a) #printing the number of hours\n",
    "# print(\"Seconds in Hours: \", a * seconds) # printing the number of seconds in a given number of hours\n",
    "\n",
    "#here we should also print \"Goodbye\", but a programmer didn't have time to write any code\n",
    "#this is the end of the program that computes the number of seconds in 3 hour"
   ]
  },
  {
   "cell_type": "code",
   "execution_count": null,
   "id": "b13b8853-08ce-4175-96b6-26eb00f36cc6",
   "metadata": {},
   "outputs": [],
   "source": []
  },
  {
   "cell_type": "raw",
   "id": "a640ca7e-9d84-45aa-81ee-b41c4d8413c7",
   "metadata": {},
   "source": [
    "#in class Lab 8\n",
    "\n",
    "Scenario\n",
    "Your task is to prepare a simple code able to evaluate the end time of a period of time, given as a number of minutes (it could be arbitrarily large). The start time is given as a pair of hours (0..23) and minutes (0..59). The result has to be printed to the console.\n",
    "For example, if an event starts at 12:17 and lasts 59 minutes, it will end at 13:16.\n",
    "Don't worry about any imperfections in your code - it's okay if it accepts an invalid time - the most important thing is that the code produce valid results for valid input data.\n",
    "Test your code carefully. Hint: using the % operator may be the key to success.\n",
    "hour = int(input(\"Starting time (hours): \"))\n",
    "mins = int(input(\"Starting time (minutes): \"))\n",
    "dura = int(input(\"Event duration (minutes): \"))\n",
    "\n",
    "# Write your code here.\n",
    "Test Data\n",
    "Sample input: 12 17 59\n",
    "Expected output: 13:16\n",
    "\n",
    "Sample input: 23 58 642\n"
   ]
  },
  {
   "cell_type": "code",
   "execution_count": null,
   "id": "c7c64677-833b-4b84-89ec-7b6c03242a93",
   "metadata": {},
   "outputs": [],
   "source": [
    "#in class Lab 8\n",
    "\n",
    "\n",
    "hour = int(input(\"Starting time (hours): \"))\n",
    "mins = int(input(\"Starting time (minutes): \"))\n",
    "dura = int(input(\"Event duration (minutes): \"))\n",
    "\n"
   ]
  },
  {
   "cell_type": "code",
   "execution_count": null,
   "id": "21497cf0-d32f-4cce-902f-6e391e880828",
   "metadata": {},
   "outputs": [],
   "source": []
  }
 ],
 "metadata": {
  "kernelspec": {
   "display_name": "Python 3 (ipykernel)",
   "language": "python",
   "name": "python3"
  },
  "language_info": {
   "codemirror_mode": {
    "name": "ipython",
    "version": 3
   },
   "file_extension": ".py",
   "mimetype": "text/x-python",
   "name": "python",
   "nbconvert_exporter": "python",
   "pygments_lexer": "ipython3",
   "version": "3.8.10"
  }
 },
 "nbformat": 4,
 "nbformat_minor": 5
}
