{
 "cells": [
  {
   "cell_type": "raw",
   "id": "cdece31f-7522-4328-ac37-bed2d73a2b88",
   "metadata": {},
   "source": [
    "\n",
    "***Literals - the data in itself***\n",
    "\n",
    "Let's start with a simple experiment - take a look at the snippet in the editor.\n",
    "\n",
    "The first line looks familiar. The second seems to be erroneous due to the visible lack of quotes.\n",
    "\n",
    "Try to run it.\n",
    "\n",
    "If everything went okay, you should now see two identical lines.\n",
    "\n",
    "What happened? What does it mean?\n",
    "\n",
    "Through this example, you encounter two different types of literals:\n",
    "\n",
    "    a string, which you already know,\n",
    "    and an integer number, something completely new.\n",
    "\n",
    "The print() function presents them in exactly the same way - this example is obvious, as their human-readable representation is also the same. Internally, in the computer's memory, these two values are stored in completely different ways - the string exists as just a string - a series of letters.\n",
    "\n",
    "The number is converted into machine representation (a set of bits). The print() function is able to show them both in a form readable to humans.\n",
    "\n",
    "We're now going to be spending some time discussing numeric literals and their internal life."
   ]
  },
  {
   "cell_type": "code",
   "execution_count": null,
   "id": "442ff58e-816e-43ff-8738-0f41e10238eb",
   "metadata": {},
   "outputs": [],
   "source": [
    "print(\"2\")\n",
    "print(2)"
   ]
  },
  {
   "cell_type": "raw",
   "id": "9004d4d9-e4df-46bf-9b24-cdc2c45267e4",
   "metadata": {},
   "source": [
    "ntegers: octal and hexadecimal numbers\n",
    "\n",
    "There are two additional conventions in Python that are unknown to the world of mathematics. The first allows us to use numbers in an octal representation.\n",
    "\n",
    "If an integer number is preceded by an 0O or 0o prefix (zero-o), it will be treated as an octal value. This means that the number must contain digits taken from the [0..7] range only.\n",
    "\n",
    "0o123 is an octal number with a (decimal) value equal to 83.\n",
    "\n",
    "The print() function does the conversion automatically. Try this:"
   ]
  },
  {
   "cell_type": "code",
   "execution_count": null,
   "id": "08550a6b-d1d0-46eb-9346-0123175150a6",
   "metadata": {},
   "outputs": [],
   "source": [
    "print(0o123)"
   ]
  },
  {
   "cell_type": "raw",
   "id": "69b3f0a0-395d-4861-9aaf-71a98a163947",
   "metadata": {},
   "source": [
    "\n",
    "The second convention allows us to use hexadecimal numbers. Such numbers should be preceded by the prefix 0x or 0X (zero-x).\n",
    "\n",
    "0x123 is a hexadecimal number with a (decimal) value equal to 291. The print() function can manage these values too. Try this:"
   ]
  },
  {
   "cell_type": "code",
   "execution_count": null,
   "id": "47eb627e-e985-4fb2-ae5a-b6319bbb5609",
   "metadata": {},
   "outputs": [],
   "source": [
    "print(0x123)"
   ]
  },
  {
   "cell_type": "raw",
   "id": "61da6b0a-61b2-4a92-ab05-af0b5cbe917b",
   "metadata": {},
   "source": [
    "Strings\n",
    "\n",
    "Strings are used when you need to process text (like names of all kinds, addresses, novels, etc.), not numbers.\n",
    "\n",
    "You already know a bit about them, e.g., that strings need quotes the way floats need points.\n",
    "\n",
    "This is a very typical string: \"I am a string.\"\n",
    "\n",
    "However, there is a catch. The catch is how to encode a quote inside a string which is already delimited by quotes.\n",
    "\n",
    "Let's assume that we want to print a very simple message saying:\n",
    "I like \"Monty Python\"\n",
    "\n",
    "How do we do it without generating an error? There are two possible solutions.\n",
    "\n",
    "The first is based on the concept we already know of the escape character, which you should remember is played by the backslash. The backslash can escape quotes too. A quote preceded by a backslash changes its meaning - it's not a delimiter, but just a quote. This will work as intended:"
   ]
  },
  {
   "cell_type": "code",
   "execution_count": null,
   "id": "2c86c91e-bb03-472a-b9ee-61e0ac03da1a",
   "metadata": {},
   "outputs": [],
   "source": [
    "print(\"I like \\\"Monty Python\\\"\")"
   ]
  },
  {
   "cell_type": "raw",
   "id": "e1196517-5e13-495e-b5f9-88d6f0e628c0",
   "metadata": {},
   "source": [
    "Note: there are two escaped quotes inside the string - can you see them both?\n",
    "\n",
    "The second solution may be a bit surprising. Python can use an apostrophe instead of a quote. Either of these characters may delimit strings, but you must be consistent.\n",
    "\n",
    "If you open a string with a quote, you have to close it with a quote.\n",
    "\n",
    "If you start a string with an apostrophe, you have to end it with an apostrophe.\n",
    "\n",
    "This example will work too:\n",
    "\n",
    "Note: you don't need to do any escaping here."
   ]
  },
  {
   "cell_type": "code",
   "execution_count": null,
   "id": "a3bb8bb2-5ed0-42c6-8944-9da900a29acb",
   "metadata": {},
   "outputs": [],
   "source": [
    "print('I like \"Monty Python\"')\n"
   ]
  },
  {
   "cell_type": "raw",
   "id": "46c6ae22-3ea4-4dff-bae5-500c91e3c31d",
   "metadata": {},
   "source": [
    "Coding strings\n",
    "\n",
    "Now, the next question is: how do you embed an apostrophe into a string placed between apostrophes?\n",
    "\n",
    "You should already know the answer, or to be precise, two possible answers.\n",
    "\n",
    "Try to print out a string containing the following message:\n",
    "I'm Monty Python.\n",
    "\n",
    "Do you know how to do it? Click Check below to see if you were right:"
   ]
  },
  {
   "cell_type": "code",
   "execution_count": null,
   "id": "2aca80d3-3206-4195-b7a9-7ee8f7a83b35",
   "metadata": {},
   "outputs": [],
   "source": [
    "print('') #with single quotes\n"
   ]
  },
  {
   "cell_type": "raw",
   "id": "f4df8b58-5758-4540-9481-0f32552e9edb",
   "metadata": {},
   "source": [
    "or"
   ]
  },
  {
   "cell_type": "code",
   "execution_count": null,
   "id": "0daa19a0-1235-44f2-b580-98bbc6a3c461",
   "metadata": {},
   "outputs": [],
   "source": [
    "print(\"\") #with double quotes"
   ]
  },
  {
   "cell_type": "raw",
   "id": "5f20ebad-0568-4bc2-848f-6f0b9b5f7fca",
   "metadata": {},
   "source": [
    "Boolean values\n",
    "\n",
    "To conclude with Python's literals, there are two additional ones.\n",
    "\n",
    "They're not as obvious as any of the previous ones, as they're used to represent a very abstract value - truthfulness.\n",
    "\n",
    "Each time you ask Python if one number is greater than another, the question results in the creation of some specific data - a Boolean value.\n",
    "\n",
    "These two Boolean values have strict denotations in Python:\n",
    "True\n",
    "False\n",
    "\n",
    "You cannot change anything - you have to take these symbols as they are, including case-sensitivity.\n",
    "\n",
    "Challenge: What will be the output of the following snippet of code?\n",
    "\n",
    "\n",
    "\n",
    "print(True > False)\n",
    "print(True < False)"
   ]
  },
  {
   "cell_type": "code",
   "execution_count": null,
   "id": "ae434cb5-9b57-4e73-b8ce-7b0efebe41c8",
   "metadata": {},
   "outputs": [],
   "source": [
    "#Run the code in the Sandbox to check. Can you explain the result?\n",
    "\n"
   ]
  },
  {
   "cell_type": "raw",
   "id": "d27218d2-01f9-43e3-a15e-003e68992972",
   "metadata": {},
   "source": [
    "In class LAB \n",
    "Estimated time\n",
    "5-10 minutes\n",
    "Level of difficulty\n",
    "Easy\n",
    "Objectives\n",
    "•\tbecoming familiar with the print() function and its formatting capabilities;\n",
    "•\tpracticing coding strings;\n",
    "•\texperimenting with Python code.\n",
    "\n",
    "Scenario\n",
    "Write a one-line piece of code, using the print() function, as well as the newline and escape characters, to match the expected result outputted on three lines.\n",
    "\n",
    "Expected output\n",
    "\"I'm\" \"\n",
    "\"learning\"\" \n",
    "\"\"\"Python\"\"\"\n",
    "\n"
   ]
  },
  {
   "cell_type": "code",
   "execution_count": null,
   "id": "1b148269-7509-4b4e-92cc-6999747a0519",
   "metadata": {},
   "outputs": [],
   "source": [
    "#"
   ]
  },
  {
   "cell_type": "code",
   "execution_count": null,
   "id": "ec4747ae-3c25-47bd-a3ee-3d9e1aaebf36",
   "metadata": {},
   "outputs": [],
   "source": []
  }
 ],
 "metadata": {
  "kernelspec": {
   "display_name": "Python 3 (ipykernel)",
   "language": "python",
   "name": "python3"
  },
  "language_info": {
   "codemirror_mode": {
    "name": "ipython",
    "version": 3
   },
   "file_extension": ".py",
   "mimetype": "text/x-python",
   "name": "python",
   "nbconvert_exporter": "python",
   "pygments_lexer": "ipython3",
   "version": "3.8.10"
  }
 },
 "nbformat": 4,
 "nbformat_minor": 5
}
